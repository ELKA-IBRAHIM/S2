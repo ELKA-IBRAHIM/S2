{
 "cells": [
  {
   "cell_type": "markdown",
   "metadata": {},
   "source": [
    "# TP2\n"
   ]
  },
  {
   "cell_type": "code",
   "execution_count": null,
   "metadata": {},
   "outputs": [],
   "source": [
    "import numpy as np\n",
    "import matplotlib.pyplot as plt"
   ]
  },
  {
   "cell_type": "code",
   "execution_count": 1,
   "metadata": {
    "vscode": {
     "languageId": "plaintext"
    }
   },
   "outputs": [
    {
     "name": "stdout",
     "output_type": "stream",
     "text": [
      "0.0002\n"
     ]
    }
   ],
   "source": [
    "\n",
    "\n",
    "alpha = 0.5\n",
    "Ve = 100 # [V]\n",
    "L = 200e-6 # [H]\n",
    "fmin = 5e3 # [HZ]\n",
    "fmax = 30e3 # [HZ]\n",
    "f_list = np.linsapce(fmin, fmax, 1000) # [Hz] liste des fréquences\n",
    "delta_I = alpha*(1-alpha)*Ve/(L*f_list)\n",
    "\n",
    "plt.plot(f_list, delta_I, label = \"$\\delta I$ \")\n",
    "plt.xlabel(\"fréquence en Hz\")\n",
    "plt.ylabel(\"$\\delta I$\" )\n",
    "\n",
    "\n",
    "plt.grid()\n",
    "plt.legend()\n",
    "\n",
    "plt.show()\n"
   ]
  },
  {
   "cell_type": "markdown",
   "metadata": {},
   "source": []
  }
 ],
 "metadata": {
  "kernelspec": {
   "display_name": "Python 3 (ipykernel)",
   "language": "python",
   "name": "python3"
  },
  "language_info": {
   "codemirror_mode": {
    "name": "ipython",
    "version": 3
   },
   "file_extension": ".py",
   "mimetype": "text/x-python",
   "name": "python",
   "nbconvert_exporter": "python",
   "pygments_lexer": "ipython3",
   "version": "3.12.7"
  }
 },
 "nbformat": 4,
 "nbformat_minor": 4
}
